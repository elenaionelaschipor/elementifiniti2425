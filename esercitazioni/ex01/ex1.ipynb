{
 "cells": [
  {
   "cell_type": "code",
   "execution_count": 120,
   "metadata": {},
   "outputs": [
    {
     "name": "stderr",
     "output_type": "stream",
     "text": [
      "\u001b[32m\u001b[1m  Activating\u001b[22m\u001b[39m new project at `c:\\Users\\elena_\\Documents\\GitHub\\elementifiniti2425\\esercitazioni\\ex01\\elementifinitiunipv_pkg`\n"
     ]
    }
   ],
   "source": [
    "import Pkg\n",
    "Pkg.activate(\"elementifinitiunipv_pkg\")"
   ]
  },
  {
   "cell_type": "markdown",
   "metadata": {},
   "source": [
    "Le variabili in julia vengono passate alle funzioni con il meccanismo \"pass by sharing\": l'oggetto non viene copiato ma gli argomenti della funzione diventano nuovi bindings e modifico l'argomento originale. \n",
    "- Se il valore è immutable (Stringhe, numeri...) creo un nuovo oggetto senza modificare l'originale\n",
    "- Se il valore è mutable (per esempio array o dizionari) le modifiche fatte ad elementi degli array dentro la funzione le vediamo anche fuori dalla funzione. \n",
    "\n",
    "In matlab quando entravo nella funzione veniva fatta una copia dei parametri e poi ci si lavorava. Qui il contrario: quello che succede nella funzione succede anche fuori.\n",
    "\n",
    "\n",
    "\n"
   ]
  },
  {
   "cell_type": "code",
   "execution_count": 121,
   "metadata": {},
   "outputs": [
    {
     "name": "stdout",
     "output_type": "stream",
     "text": [
      "[42, 5, 6]\t a è cambiato\n",
      "3\t b non è cambiato\n",
      "10\t questo è l'output\n"
     ]
    }
   ],
   "source": [
    "function f(x,y)\n",
    "    x[1] = 42\n",
    "    y = y+7\n",
    "    return y\n",
    "end\n",
    "\n",
    "a = [4,5,6]\n",
    "b = 3\n",
    "z = f(a,b)\n",
    "println(a,\"\\t a è cambiato\")\n",
    "println(b, \"\\t b non è cambiato\")\n",
    "println(z, \"\\t questo è l'output\")"
   ]
  },
  {
   "cell_type": "markdown",
   "metadata": {},
   "source": [
    "vantaggio rispetto a matlab che copiava tutto: risparmio tempo e memoria, magari devo fare delle piccole modifiche. spesso, per ricordarci che la funzione modifica gli argomenti, è utile scrivere function f!(x,y) ... invece che function f(x,y)....\n",
    "\n"
   ]
  },
  {
   "cell_type": "markdown",
   "metadata": {},
   "source": [
    "esempio: in matlab per plottare una cosa la sintassi base è: plot(x,y).\n",
    "Se voglio aggiungere qualcosa allora metto plot(x,y, \"Linestyle\"=.... , ....)\n",
    "In julia ci sono gli argomenti optionali e keyword. \n"
   ]
  },
  {
   "cell_type": "code",
   "execution_count": 122,
   "metadata": {},
   "outputs": [
    {
     "name": "stdout",
     "output_type": "stream",
     "text": [
      "ciao, gioia!\n",
      "ciao, Carlo!\n"
     ]
    }
   ],
   "source": [
    "function hello(name = \"gioia\")  #qui name è argomento opzionale\n",
    "    println(\"ciao, \", name, \"!\")\n",
    "end\n",
    "\n",
    "hello()\n",
    "hello(\"Carlo\")"
   ]
  },
  {
   "cell_type": "markdown",
   "metadata": {},
   "source": [
    "Quando ho tanti tanti argomenti le cose in matlab diventano un po' più complicate ma in julia è tutto più carino: prima si mettono le variabili obbligatorie senza nulla, e quelle opzionali con la keyword associata. \n",
    "attenzione: scrivendo la funzione separo le var obbl e quelle opzionali con un ; ."
   ]
  },
  {
   "cell_type": "code",
   "execution_count": 123,
   "metadata": {},
   "outputs": [
    {
     "name": "stdout",
     "output_type": "stream",
     "text": [
      "Elena ha 23 anni ed è di Ozzano\n"
     ]
    }
   ],
   "source": [
    "function describe_person(name; age = 20, city=\"Roma\")\n",
    "    println(\"$name ha $age anni ed è di $city\")\n",
    "end\n",
    "\n",
    "describe_person(\"Elena\", age = 23, city = \"Ozzano\")"
   ]
  },
  {
   "cell_type": "markdown",
   "metadata": {},
   "source": [
    "Esercizio 1: funzione example che:\n",
    "- accetta x obbligatorio\n",
    "- parametro opzionale con valore 10\n",
    "- parametro con keyword con valore predef 20\n",
    "\n",
    "restituisce somma x+y+z\n"
   ]
  },
  {
   "cell_type": "code",
   "execution_count": 124,
   "metadata": {},
   "outputs": [
    {
     "data": {
      "text/plain": [
       "110"
      ]
     },
     "metadata": {},
     "output_type": "display_data"
    }
   ],
   "source": [
    "function example(x, y=10; z=20)\n",
    "    return x+y+z\n",
    "end\n",
    "x = 5\n",
    "example(4, 100, z=6)"
   ]
  },
  {
   "cell_type": "markdown",
   "metadata": {},
   "source": [
    "nota: \"return\" non è obbligatorio (ma è molto consigliato), se non lo metto la funzione restituisce la cosa che c'è alla fine. \n",
    "se non voglio un output (tipo none di python) scrivo return nothing\n"
   ]
  },
  {
   "cell_type": "markdown",
   "metadata": {},
   "source": []
  },
  {
   "cell_type": "markdown",
   "metadata": {},
   "source": [
    "# Differenze finite:"
   ]
  },
  {
   "cell_type": "markdown",
   "metadata": {},
   "source": [
    "**Esercizio 5** \n",
    "\n",
    "Implementare in Julia il metodo delle differenze finite descritto sopra. In particolare:\n",
    "1. Attivare l’environment creato nella lezione precedente. A questo fine, inserire come prime\n",
    "due righe del proprio codice:\n",
    "1 import Pkg\n",
    "2 Pkg.activate(\"elementifinitiunipv_pkg\") ☑️\n",
    "2. Caricare i pacchetti necessari: LinearAlgebra (per operazioni con vettori e matrici), SparseArrays\n",
    "(per gestire matrici tridiagonali in modo efficiente), Plots (per la rappresentazione grafica\n",
    "degli errori), LaTeXStrings (per scrivere formule in LATEXnei grafici).☑️\n",
    "3. Definire due funzioni in Julia: f e u che calcolino rispettivamente il termine noto f(x) e la\n",
    "soluzione esatta u(x) del problema di Poisson monodimensionale. Si prenda come soluzione\n",
    "esatta u(x) = cos(πx), con corrispondente termine noto f(x) = π2 cos(πx).☑️\n",
    "4. Implementare una funzione poisson1d che prenda in input il numero di intervalli N, il\n",
    "termine noto f, i dati di Dirichlet ga e gb e restituisca la soluzione approssimata uh del\n",
    "problema di Poisson monodimensionale. Si presti particolare attenzione a utilizzare una\n",
    "rappresentazione sparsa per la matrice A per garantire efficienza computazionale. A tale\n",
    "fine, si può utilizzare la funzione spdiagm del pacchetto SparseArrays. ☑️"
   ]
  },
  {
   "cell_type": "code",
   "execution_count": 125,
   "metadata": {},
   "outputs": [],
   "source": [
    "using LinearAlgebra\n",
    "using SparseArrays\n",
    "using LaTeXStrings\n",
    "using Plots\n",
    "using Printf"
   ]
  },
  {
   "cell_type": "code",
   "execution_count": 126,
   "metadata": {},
   "outputs": [
    {
     "name": "stdout",
     "output_type": "stream",
     "text": [
      "-8.90914742093358\n"
     ]
    }
   ],
   "source": [
    " function f(x)\n",
    "    return (pi^2)*cos.(pi*x)\n",
    " end\n",
    "println(f(pi))"
   ]
  },
  {
   "cell_type": "code",
   "execution_count": 127,
   "metadata": {},
   "outputs": [
    {
     "name": "stdout",
     "output_type": "stream",
     "text": [
      "1.0\n"
     ]
    }
   ],
   "source": [
    "function u(x)\n",
    "    return cos.(pi*x)\n",
    "end\n",
    "println(u(2))"
   ]
  },
  {
   "cell_type": "code",
   "execution_count": 128,
   "metadata": {},
   "outputs": [
    {
     "data": {
      "text/plain": [
       "poisson1d (generic function with 1 method)"
      ]
     },
     "metadata": {},
     "output_type": "display_data"
    }
   ],
   "source": [
    "function poisson1d(N, f, ga, gb)\n",
    "# build A\n",
    "    h = 1/N\n",
    "    # D = [0 => 1/(h^2)*2*ones(N-1), 1 => -1/(h^2)*ones(N-2), -1 => -1/(h^2)*ones(N-2) ]\n",
    "    A = spdiagm(0 => 1/(h^2)*2*ones(N-1), 1 => -1/(h^2)*ones(N-2), -1 => -1/(h^2)*ones(N-2)\n",
    "    )\n",
    "    x = collect(range(0+h,1-h, step = h))\n",
    "    b = f(x) + vcat([ga/h^2], vcat(zeros(N-3), [gb/h^2]))\n",
    "    # println(b)\n",
    "    # println(vcat(zeros(N-3), [4]))\n",
    "    #return A, b\n",
    "    uh = A\\b\n",
    "    return uh, x\n",
    "end"
   ]
  },
  {
   "cell_type": "code",
   "execution_count": 129,
   "metadata": {},
   "outputs": [
    {
     "data": {
      "text/plain": [
       "([0.9995081647951896, 0.9980298561556686, 0.9955665346170178, 0.9921206328036264, 0.9876955530279867, 0.982295663933023, 0.9759262961807668, 0.9685937371916378, 0.9603052249395194, 0.9510689408087516  …  -0.9510689408087577, -0.960305224939525, -0.9685937371916429, -0.9759262961807711, -0.9822956639330267, -0.9876955530279895, -0.9921206328036283, -0.995566534617019, -0.9980298561556694, -0.9995081647951898], [0.01, 0.02, 0.03, 0.04, 0.05, 0.06, 0.07, 0.08, 0.09, 0.1  …  0.9, 0.91, 0.92, 0.93, 0.94, 0.95, 0.96, 0.97, 0.98, 0.99])"
      ]
     },
     "metadata": {},
     "output_type": "display_data"
    }
   ],
   "source": [
    "uh, x= poisson1d(100, f, 1,- 1)"
   ]
  },
  {
   "cell_type": "code",
   "execution_count": 130,
   "metadata": {},
   "outputs": [
    {
     "data": {
      "text/plain": [
       "99-element Vector{Float64}:\n",
       "  0.9995081647951896\n",
       "  0.9980298561556686\n",
       "  0.9955665346170178\n",
       "  0.9921206328036264\n",
       "  0.9876955530279867\n",
       "  0.982295663933023\n",
       "  0.9759262961807668\n",
       "  0.9685937371916378\n",
       "  0.9603052249395194\n",
       "  0.9510689408087516\n",
       "  ⋮\n",
       " -0.960305224939525\n",
       " -0.9685937371916429\n",
       " -0.9759262961807711\n",
       " -0.9822956639330267\n",
       " -0.9876955530279895\n",
       " -0.9921206328036283\n",
       " -0.995566534617019\n",
       " -0.9980298561556694\n",
       " -0.9995081647951898"
      ]
     },
     "metadata": {},
     "output_type": "display_data"
    }
   ],
   "source": [
    "uh = poisson1d(100, f, 1, -1)[1]"
   ]
  },
  {
   "cell_type": "markdown",
   "metadata": {},
   "source": [
    "**Esercizio 6**\n",
    "È noto che, per il problema in questione, con una discretizzazione a differenze finite l’errore\n",
    "diminuisce quadraticamente rispetto a h, ovvero:\n",
    "∥uh −u∥∞ ≤C ·h2.\n",
    "1. Implementare una funzione compute_error che prenda in input la soluzione esatta u, la\n",
    "soluzione approssimata uh e restituisca l’errore maxi|ui −u(xi)|.\n",
    "2. Risolvere il problema di Poisson monodimensionale per N = 10,20,40,80,160,320 e calco-\n",
    "lare l’errore maxi|ui −u(xi)| per ciascuna soluzione approssimata.\n",
    "3. Realizzare un grafico dell’errore in funzione di h su scala log-log, confrontandolo con una\n",
    "curva di riferimento O(h2).\n",
    "4. Divertirsi a personalizzare il grafico, aggiungendo titoli, legende, griglie, ecc.\n",
    "5. Salvare il grafico prodotto in formato PDF o PNG.\n"
   ]
  },
  {
   "cell_type": "code",
   "execution_count": 131,
   "metadata": {},
   "outputs": [
    {
     "data": {
      "text/plain": [
       "compute_error (generic function with 1 method)"
      ]
     },
     "metadata": {},
     "output_type": "display_data"
    }
   ],
   "source": [
    "function compute_error(u, uh; N = 100)\n",
    "    h = 1/N\n",
    "    x = collect(range(0+h,1-h, step = h))\n",
    "    u_esatta = u(x)\n",
    "\n",
    "    error = maximum(abs.(u_esatta-uh))\n",
    "    return error\n",
    "end"
   ]
  },
  {
   "cell_type": "code",
   "execution_count": 132,
   "metadata": {},
   "outputs": [
    {
     "data": {
      "text/plain": [
       "1.7314874679041914e-5"
      ]
     },
     "metadata": {},
     "output_type": "display_data"
    }
   ],
   "source": [
    "compute_error(u, uh; N=100)"
   ]
  },
  {
   "cell_type": "code",
   "execution_count": 133,
   "metadata": {},
   "outputs": [],
   "source": [
    "N = [10,20,40,80,160,320]\n",
    "err = []\n",
    "for n in N\n",
    "push!(err, compute_error(u,poisson1d(n, f, 1, -1)[1];N=n))\n",
    "\n",
    "end"
   ]
  },
  {
   "cell_type": "code",
   "execution_count": 134,
   "metadata": {},
   "outputs": [
    {
     "data": {
      "text/plain": [
       "6-element Vector{Any}:\n",
       " 0.0017276126115373103\n",
       " 0.00043030470022276113\n",
       " 0.00010819084812063728\n",
       " 2.704145540277647e-5\n",
       " 6.76332992199935e-6\n",
       " 1.6908080777700008e-6"
      ]
     },
     "metadata": {},
     "output_type": "display_data"
    }
   ],
   "source": [
    "err"
   ]
  },
  {
   "cell_type": "code",
   "execution_count": 135,
   "metadata": {},
   "outputs": [
    {
     "name": "stdout",
     "output_type": "stream",
     "text": []
    }
   ],
   "source": [
    "# plots\n",
    "N = 4\n",
    "uh, x = poisson1d(N, f, 1, -1)\n",
    "scatter(x, uh, mc =:red, ms = 4, ma = 0.5, label = L\"$u_h$\")\n",
    "h = 1/100\n",
    "l = collect(range(0+h,1-h, step = h))\n",
    "plot!(x, u(l), lw =2 , label = L\"$u$\")\n",
    "xlims!(0, 1)\n",
    "title!(L\"Soluzione esatta $u(x) = cos(\\pi x)$ vs soluzione approssimata $u(x)$, $N = %$(N)$\", titlefontsize = 10)"
   ]
  },
  {
   "cell_type": "code",
   "execution_count": 136,
   "metadata": {},
   "outputs": [
    {
     "ename": "ErrorException",
     "evalue": "Cannot convert Float64 to series data for plotting",
     "output_type": "error",
     "traceback": [
      "Cannot convert Float64 to series data for plotting\n",
      "\n",
      "Stacktrace:\n",
      "  [1] error(s::String)\n",
      "    @ Base .\\error.jl:35\n",
      "  [2] _prepare_series_data(x::Float64)\n",
      "    @ RecipesPipeline C:\\Users\\elena_\\.julia\\packages\\RecipesPipeline\\BGM3l\\src\\series.jl:8\n",
      "  [3] _series_data_vector(x::Float64, plotattributes::Dict{Symbol, Any})\n",
      "    @ RecipesPipeline C:\\Users\\elena_\\.julia\\packages\\RecipesPipeline\\BGM3l\\src\\series.jl:36\n",
      "  [4] macro expansion\n",
      "    @ C:\\Users\\elena_\\.julia\\packages\\RecipesPipeline\\BGM3l\\src\\series.jl:129 [inlined]\n",
      "  [5] apply_recipe(plotattributes::AbstractDict{Symbol, Any}, ::Type{RecipesPipeline.SliceIt}, x::Any, y::Any, z::Any)\n",
      "    @ RecipesPipeline C:\\Users\\elena_\\.julia\\packages\\RecipesBase\\BRe07\\src\\RecipesBase.jl:300\n",
      "  [6] _process_userrecipes!(plt::Any, plotattributes::Any, args::Any)\n",
      "    @ RecipesPipeline C:\\Users\\elena_\\.julia\\packages\\RecipesPipeline\\BGM3l\\src\\user_recipe.jl:38\n",
      "  [7] recipe_pipeline!(plt::Any, plotattributes::Any, args::Any)\n",
      "    @ RecipesPipeline C:\\Users\\elena_\\.julia\\packages\\RecipesPipeline\\BGM3l\\src\\RecipesPipeline.jl:72\n",
      "  [8] _plot!(plt::Plots.Plot, plotattributes::Any, args::Any)\n",
      "    @ Plots C:\\Users\\elena_\\.julia\\packages\\Plots\\Ec1L1\\src\\plot.jl:223\n",
      "  [9] plot!(::Plots.Plot, ::Any, ::Vararg{Any}; kw...)\n",
      "    @ Plots C:\\Users\\elena_\\.julia\\packages\\Plots\\Ec1L1\\src\\plot.jl:213\n",
      " [10] plot!(::Any, ::Vararg{Any}; kw...)\n",
      "    @ Plots C:\\Users\\elena_\\.julia\\packages\\Plots\\Ec1L1\\src\\plot.jl:202\n",
      " [11] top-level scope\n",
      "    @ c:\\Users\\elena_\\Documents\\GitHub\\elementifiniti2425\\esercitazioni\\ex01\\jl_notebook_cell_df34fa98e69747e1a8f8a730347b8e2f_X43sZmlsZQ==.jl:19"
     ]
    }
   ],
   "source": [
    "begin\n",
    "    # plots\n",
    "    plot()\n",
    "    for n in N\n",
    "    uh, x = poisson1d(n, f, 1, -1)\n",
    "    scatter!(x, uh, ms = 4, ma = 0.5, label = L\"$u_h$, N = %$(n)$\")\n",
    "    end\n",
    "    h = 1/100\n",
    "    l = collect(range(0+h,1-h, step = h))\n",
    "    plot!(l, u(l), lw =2 , label = L\"$u$\")\n",
    "    xlims!(0, 1)\n",
    "    title!(L\"Soluzione esatta $u(x) = cos(\\pi x)$ vs soluzione approssimata $u(x)$\", titlefontsize = 10)\n",
    "    \n",
    "    end\n",
    "    \n",
    "    \n",
    "    plot(N, err, xscale=:log10, yscale=:log10, label = \"errore\", lw = 2, ms = 2)\n",
    "    scatter!(N, err,xscale=:log10, yscale=:log10, label = \"\", ms = 4)\n",
    "    plot!(N, 1 ./N, xscale=:log10, yscale=:log10, label =L\"riferimento $1/N$\")\n",
    "    plot!(N, 1 ./N.^2, xscale=:log10, yscale=:log10, label =L\"riferimento $\\frac{1}{N^2}$\")\n",
    "    \n",
    "    title!(\"Errore\")\n",
    "    xlabel!(L\"$N$\")\n",
    "    ylabel!(L\"$||u - u_h||_{\\infty}$\")"
   ]
  },
  {
   "cell_type": "markdown",
   "metadata": {},
   "source": [
    "\n",
    "\n",
    "**3 Meshing per Elementi Finiti**\n",
    "Come avrete intuito dall’esercizio precedente, le differenze finite si basano su griglie. Gli elementi\n",
    "finiti, invece, si basano su mesh; in questo corso, nello specifico, su triangolazioni, cioè mesh\n",
    "costituite da elementi triangolari. Ma come si descrive una triangolazione? La struttura dati\n",
    "essenziale per rappresentarla è formata dalle coordinate dei vertici e dalla matrice di incidenza.\n",
    "Per la descrizione di una triangolazione, utilizziamo due matrici:\n",
    "\n",
    "•T: Una matrice di dimensioni 2 × N_points, dove ogni colonna rappresenta le coordinate di un\n",
    "vertice. In particolare, la prima riga contiene la coordinata x di ciascun punto, mentre la\n",
    "riga colonna contiene la coordinata y. Qui, Npoints è il numero di nodi della mesh.\n",
    "\n",
    "•T: Una matrice di dimensioni 3 ×Ntri, dove ogni colonna rappresenta un triangolo e ogni\n",
    "riga indica l’indice di uno dei tre vertici che compongono il triangolo. Qui, N_tri è il numero totale di triangoli nella mesh.\n",
    "\n",
    " Gli elementi della matrice sono interi che indicano gli indici dei vertici corrispondenti nella matrice delle coordinate.\n",
    "La matrice T descrive la connettività della mesh, ossia come i punti sono connessi per formare i triangoli, mentre la matrice p memorizza le coordinate spaziali di ciascun vertice.\n",
    "Vi forniremo gran parte delle routines necessarie per il meshing durante il corso, utilizzando il generatore di mesh Gmsh e il pacchetto Julia Gmsh.jl. Le routines si trovano nel file modules/Meshing.jl e verranno aggiornate man mano che il corso progredisce."
   ]
  },
  {
   "cell_type": "markdown",
   "metadata": {},
   "source": [
    "**Esercizio 7**\n",
    "L’obiettivo di questo esercizio è familiarizzare con la struttura dati di una triangolazione.\n",
    "\n",
    "Ecco le prime linee di codice che dovreste aggiungere al vostro script Julia:\n",
    "1 using Revise\n",
    "2 includet(\"<PATH-TO-FOLDER>/Meshing.jl\")\n",
    "\n",
    "\n",
    "•using Revise:  Questo comando carica il pacchetto Revise.jl, che consente di ricaricare\n",
    "automaticamente i file modificati durante la sessione, senza bisogno di riavviare Julia.\n",
    "\n",
    "•includet(\"<PATH-TO-FOLDER>/Meshing.jl\"): Questa riga include il modulo Meshing.jl,\n",
    "che contiene tutte le funzioni necessarie per lavorare con le mesh. Sostituite <PATH-TO-FOLDER>\n",
    "con il percorso corretto del file Meshing.jl.\n",
    "\n",
    "Una volta che queste righe sono state aggiunte, potrete iniziare a sperimentare con le mesh,\n",
    "utilizzando anche la documentazione delle funzioni nel file Meshing.jl.\n",
    "\n",
    "1. Usando le funzioni mesh_square, mesh_circle e get_nodes_connectivity, eseguire alcune\n",
    "mesh per il quadrato e il cerchio unitario con diverse dimensioni della mesh h.\n",
    "\n",
    "2. Definire una funzione plot_mesh che prende in input la matrice di incidenza T, le coordinate dei vertici p e disegna la triangolazione. La funzione deve iterare su ciascun triangolo e disegnare i bordi uno per uno. Non è necessario concentrarsi sull’efficienza in questa fase, l’obiettivo è essere sicuri di aver compreso correttamente la struttura dei dati.\n",
    "\n",
    "3. Confrontare il risultato ottenuto con la vostra funzione di visualizzazione con quello ottenuto tramite il pacchetto Meshes.jl utilizzando il seguente codice:\n",
    "\n",
    "1 import Meshes\n",
    "2 mesh = to_Meshes(T, p)\n",
    "3 Meshes.viz(mesh, showsegments = true)\n",
    "\n"
   ]
  },
  {
   "cell_type": "code",
   "execution_count": 140,
   "metadata": {},
   "outputs": [
    {
     "ename": "ArgumentError",
     "evalue": "ArgumentError: Package Revise not found in current path.\n- Run `import Pkg; Pkg.add(\"Revise\")` to install the Revise package.",
     "output_type": "error",
     "traceback": [
      "ArgumentError: Package Revise not found in current path.\n",
      "- Run `import Pkg; Pkg.add(\"Revise\")` to install the Revise package.\n",
      "\n",
      "Stacktrace:\n",
      "  [1] macro expansion\n",
      "    @ .\\loading.jl:2296 [inlined]\n",
      "  [2] macro expansion\n",
      "    @ .\\lock.jl:273 [inlined]\n",
      "  [3] __require(into::Module, mod::Symbol)\n",
      "    @ Base .\\loading.jl:2271\n",
      "  [4] #invoke_in_world#3\n",
      "    @ .\\essentials.jl:1089 [inlined]\n",
      "  [5] invoke_in_world\n",
      "    @ .\\essentials.jl:1086 [inlined]\n",
      "  [6] require(into::Module, mod::Symbol)\n",
      "    @ Base .\\loading.jl:2260\n",
      "  [7] eval\n",
      "    @ .\\boot.jl:430 [inlined]\n",
      "  [8] include_string(mapexpr::typeof(REPL.softscope), mod::Module, code::String, filename::String)\n",
      "    @ Base .\\loading.jl:2734\n",
      "  [9] #invokelatest#2\n",
      "    @ .\\essentials.jl:1055 [inlined]\n",
      " [10] invokelatest\n",
      "    @ .\\essentials.jl:1052 [inlined]\n",
      " [11] (::VSCodeServer.var\"#217#218\"{VSCodeServer.NotebookRunCellArguments, String})()\n",
      "    @ VSCodeServer c:\\Users\\elena_\\.vscode\\extensions\\julialang.language-julia-1.127.2\\scripts\\packages\\VSCodeServer\\src\\serve_notebook.jl:24\n",
      " [12] withpath(f::VSCodeServer.var\"#217#218\"{VSCodeServer.NotebookRunCellArguments, String}, path::String)\n",
      "    @ VSCodeServer c:\\Users\\elena_\\.vscode\\extensions\\julialang.language-julia-1.127.2\\scripts\\packages\\VSCodeServer\\src\\repl.jl:276\n",
      " [13] notebook_runcell_request(conn::VSCodeServer.JSONRPC.JSONRPCEndpoint{Base.PipeEndpoint, Base.PipeEndpoint}, params::VSCodeServer.NotebookRunCellArguments)\n",
      "    @ VSCodeServer c:\\Users\\elena_\\.vscode\\extensions\\julialang.language-julia-1.127.2\\scripts\\packages\\VSCodeServer\\src\\serve_notebook.jl:13\n",
      " [14] dispatch_msg(x::VSCodeServer.JSONRPC.JSONRPCEndpoint{Base.PipeEndpoint, Base.PipeEndpoint}, dispatcher::VSCodeServer.JSONRPC.MsgDispatcher, msg::Dict{String, Any})\n",
      "    @ VSCodeServer.JSONRPC c:\\Users\\elena_\\.vscode\\extensions\\julialang.language-julia-1.127.2\\scripts\\packages\\JSONRPC\\src\\typed.jl:67\n",
      " [15] serve_notebook(pipename::String, debugger_pipename::String, outputchannel_logger::Base.CoreLogging.SimpleLogger; error_handler::var\"#5#10\"{String})\n",
      "    @ VSCodeServer c:\\Users\\elena_\\.vscode\\extensions\\julialang.language-julia-1.127.2\\scripts\\packages\\VSCodeServer\\src\\serve_notebook.jl:147\n",
      " [16] top-level scope\n",
      "    @ c:\\Users\\elena_\\.vscode\\extensions\\julialang.language-julia-1.127.2\\scripts\\notebook\\notebook.jl:35"
     ]
    }
   ],
   "source": [
    "using Revise"
   ]
  },
  {
   "cell_type": "markdown",
   "metadata": {},
   "source": []
  }
 ],
 "metadata": {
  "kernelspec": {
   "display_name": "Julia 1.11.3",
   "language": "julia",
   "name": "julia-1.11"
  },
  "language_info": {
   "file_extension": ".jl",
   "mimetype": "application/julia",
   "name": "julia",
   "version": "1.11.3"
  }
 },
 "nbformat": 4,
 "nbformat_minor": 2
}

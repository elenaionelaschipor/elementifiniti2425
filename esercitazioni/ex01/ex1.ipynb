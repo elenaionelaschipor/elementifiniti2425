{
 "cells": [
  {
   "cell_type": "code",
   "execution_count": 2,
   "metadata": {},
   "outputs": [
    {
     "name": "stderr",
     "output_type": "stream",
     "text": [
      "\u001b[32m\u001b[1m  Activating\u001b[22m\u001b[39m new project at `c:\\Users\\elena_\\Documents\\GitHub\\elementifiniti2425\\esercitazioni\\ex01\\elementifinitiunipv_pkg`\n"
     ]
    }
   ],
   "source": [
    "import Pkg\n",
    "Pkg.activate(\"elementifinitiunipv_pkg\")"
   ]
  },
  {
   "cell_type": "markdown",
   "metadata": {},
   "source": [
    "Le variabili in julia vengono passate alle funzioni con il meccanismo \"pass by sharing\": l'oggetto non viene copiato ma gli argomenti della funzione diventano nuovi bindings e modifico l'argomento originale. \n",
    "- Se il valore è immutable (Stringhe, numeri...) creo un nuovo oggetto senza modificare l'originale\n",
    "- Se il valore è mutable (per esempio array o dizionari) le modifiche fatte ad elementi degli array dentro la funzione le vediamo anche fuori dalla funzione. \n",
    "\n",
    "In matlab quando entravo nella funzione veniva fatta una copia dei parametri e poi ci si lavorava. Qui il contrario: quello che succede nella funzione succede anche fuori.\n",
    "\n",
    "\n",
    "\n"
   ]
  },
  {
   "cell_type": "code",
   "execution_count": 3,
   "metadata": {},
   "outputs": [
    {
     "name": "stdout",
     "output_type": "stream",
     "text": [
      "[42, 5, 6]\t a è cambiato\n",
      "3\t b non è cambiato\n",
      "10\t questo è l'output\n"
     ]
    }
   ],
   "source": [
    "function f(x,y)\n",
    "    x[1] = 42\n",
    "    y = y+7\n",
    "    return y\n",
    "end\n",
    "\n",
    "a = [4,5,6]\n",
    "b = 3\n",
    "z = f(a,b)\n",
    "println(a,\"\\t a è cambiato\")\n",
    "println(b, \"\\t b non è cambiato\")\n",
    "println(z, \"\\t questo è l'output\")"
   ]
  },
  {
   "cell_type": "markdown",
   "metadata": {},
   "source": [
    "vantaggio rispetto a matlab che copiava tutto: risparmio tempo e memoria, magari devo fare delle piccole modifiche. spesso, per ricordarci che la funzione modifica gli argomenti, è utile scrivere function f!(x,y) ... invece che function f(x,y)....\n",
    "\n"
   ]
  },
  {
   "cell_type": "markdown",
   "metadata": {},
   "source": [
    "esempio: in matlab per plottare una cosa la sintassi base è: plot(x,y).\n",
    "Se voglio aggiungere qualcosa allora metto plot(x,y, \"Linestyle\"=.... , ....)\n",
    "In julia ci sono gli argomenti optionali e keyword. \n"
   ]
  },
  {
   "cell_type": "code",
   "execution_count": 4,
   "metadata": {},
   "outputs": [
    {
     "name": "stdout",
     "output_type": "stream",
     "text": [
      "ciao, gioia!\n",
      "ciao, Carlo!\n"
     ]
    }
   ],
   "source": [
    "function hello(name = \"gioia\")  #qui name è argomento opzionale\n",
    "    println(\"ciao, \", name, \"!\")\n",
    "end\n",
    "\n",
    "hello()\n",
    "hello(\"Carlo\")"
   ]
  },
  {
   "cell_type": "markdown",
   "metadata": {},
   "source": [
    "Quando ho tanti tanti argomenti le cose in matlab diventano un po' più complicate ma in julia è tutto più carino: prima si mettono le variabili obbligatorie senza nulla, e quelle opzionali con la keyword associata. \n",
    "attenzione: scrivendo la funzione separo le var obbl e quelle opzionali con un ; ."
   ]
  },
  {
   "cell_type": "code",
   "execution_count": 5,
   "metadata": {},
   "outputs": [
    {
     "name": "stdout",
     "output_type": "stream",
     "text": [
      "Elena ha 23 anni ed è di Ozzano\n"
     ]
    }
   ],
   "source": [
    "function describe_person(name; age = 20, city=\"Roma\")\n",
    "    println(\"$name ha $age anni ed è di $city\")\n",
    "end\n",
    "\n",
    "describe_person(\"Elena\", age = 23, city = \"Ozzano\")"
   ]
  },
  {
   "cell_type": "markdown",
   "metadata": {},
   "source": [
    "Esercizio 1: funzione example che:\n",
    "- accetta x obbligatorio\n",
    "- parametro opzionale con valore 10\n",
    "- parametro con keyword con valore predef 20\n",
    "\n",
    "restituisce somma x+y+z\n"
   ]
  },
  {
   "cell_type": "code",
   "execution_count": 6,
   "metadata": {},
   "outputs": [
    {
     "data": {
      "text/plain": [
       "110"
      ]
     },
     "metadata": {},
     "output_type": "display_data"
    }
   ],
   "source": [
    "function example(x, y=10; z=20)\n",
    "    return x+y+z\n",
    "end\n",
    "x = 5\n",
    "example(4, 100, z=6)"
   ]
  },
  {
   "cell_type": "markdown",
   "metadata": {},
   "source": [
    "nota: \"return\" non è obbligatorio (ma è molto consigliato), se non lo metto la funzione restituisce la cosa che c'è alla fine. \n",
    "se non voglio un output (tipo none di python) scrivo return nothing\n"
   ]
  },
  {
   "cell_type": "markdown",
   "metadata": {},
   "source": []
  },
  {
   "cell_type": "markdown",
   "metadata": {},
   "source": [
    "# Differenze finite:"
   ]
  },
  {
   "cell_type": "markdown",
   "metadata": {},
   "source": [
    "**Esercizio 5** \n",
    "\n",
    "Implementare in Julia il metodo delle differenze finite descritto sopra. In particolare:\n",
    "1. Attivare l’environment creato nella lezione precedente. A questo fine, inserire come prime\n",
    "due righe del proprio codice:\n",
    "1 import Pkg\n",
    "2 Pkg.activate(\"elementifinitiunipv_pkg\") ☑️\n",
    "2. Caricare i pacchetti necessari: LinearAlgebra (per operazioni con vettori e matrici), SparseArrays\n",
    "(per gestire matrici tridiagonali in modo efficiente), Plots (per la rappresentazione grafica\n",
    "degli errori), LaTeXStrings (per scrivere formule in LATEXnei grafici).☑️\n",
    "3. Definire due funzioni in Julia: f e u che calcolino rispettivamente il termine noto f(x) e la\n",
    "soluzione esatta u(x) del problema di Poisson monodimensionale. Si prenda come soluzione\n",
    "esatta u(x) = cos(πx), con corrispondente termine noto f(x) = π2 cos(πx).☑️\n",
    "4. Implementare una funzione poisson1d che prenda in input il numero di intervalli N, il\n",
    "termine noto f, i dati di Dirichlet ga e gb e restituisca la soluzione approssimata uh del\n",
    "problema di Poisson monodimensionale. Si presti particolare attenzione a utilizzare una\n",
    "rappresentazione sparsa per la matrice A per garantire efficienza computazionale. A tale\n",
    "fine, si può utilizzare la funzione spdiagm del pacchetto SparseArrays. ☑️"
   ]
  },
  {
   "cell_type": "code",
   "execution_count": 7,
   "metadata": {},
   "outputs": [],
   "source": [
    "using LinearAlgebra\n",
    "using SparseArrays\n",
    "using LaTeXStrings\n",
    "using Plots"
   ]
  },
  {
   "cell_type": "code",
   "execution_count": 30,
   "metadata": {},
   "outputs": [
    {
     "name": "stdout",
     "output_type": "stream",
     "text": [
      "-8.90914742093358\n"
     ]
    }
   ],
   "source": [
    " function f(x)\n",
    "    return pi^2*cos.(pi*x)\n",
    " end\n",
    "println(f(pi))"
   ]
  },
  {
   "cell_type": "code",
   "execution_count": 31,
   "metadata": {},
   "outputs": [
    {
     "name": "stdout",
     "output_type": "stream",
     "text": [
      "1.0\n"
     ]
    }
   ],
   "source": [
    "function u(x)\n",
    "    return cos.(pi*x)\n",
    "end\n",
    "println(u(2))"
   ]
  },
  {
   "cell_type": "code",
   "execution_count": 87,
   "metadata": {},
   "outputs": [
    {
     "data": {
      "text/plain": [
       "poisson1d (generic function with 1 method)"
      ]
     },
     "metadata": {},
     "output_type": "display_data"
    }
   ],
   "source": [
    "function poisson1d(N, f, ga, gb)\n",
    "# build A\n",
    "    h = 1/N\n",
    "    D = [0 => 1/(h^2)*2*ones(N-1), 1 => -1/(h^2)*ones(N-2), -1 => -1/(h^2)*ones(N-2) ]\n",
    "    A = spdiagm(0 => 1/(h^2)*2*ones(N-1), 1 => -1/(h^2)*ones(N-2), -1 => -1/(h^2)*ones(N-2)\n",
    "    )\n",
    "    x = collect(range(0+h,1-h, step = h))\n",
    "    b = f(x) #+ hcat([ga/h^2], hcat(zeros(N-3), [gb/h^2]))\n",
    "    #return A, b\n",
    "    uh = A\\b\n",
    "    return uh, x\n",
    "end"
   ]
  },
  {
   "cell_type": "code",
   "execution_count": 88,
   "metadata": {},
   "outputs": [
    {
     "data": {
      "text/plain": [
       "([0.019508164795189714, 0.038029856155669096, 0.05556653461701842, 0.07212063280362736, 0.08769555302798841, 0.10229566393302522, 0.11592629618076945, 0.12859373719164094, 0.14030522493952283, 0.1510689408087552  …  -0.1510689408087566, -0.14030522493952413, -0.1285937371916421, -0.11592629618077047, -0.10229566393302608, -0.0876955530279891, -0.0721206328036279, -0.05556653461701882, -0.038029856155669346, -0.01950816479518984], [0.01, 0.02, 0.03, 0.04, 0.05, 0.06, 0.07, 0.08, 0.09, 0.1  …  0.9, 0.91, 0.92, 0.93, 0.94, 0.95, 0.96, 0.97, 0.98, 0.99])"
      ]
     },
     "metadata": {},
     "output_type": "display_data"
    }
   ],
   "source": [
    "uh, x= poisson1d(100, f, 0, 1)"
   ]
  },
  {
   "cell_type": "code",
   "execution_count": 91,
   "metadata": {},
   "outputs": [
    {
     "data": {
      "text/plain": [
       "99-element Vector{Float64}:\n",
       "  0.019508164795189714\n",
       "  0.038029856155669096\n",
       "  0.05556653461701842\n",
       "  0.07212063280362736\n",
       "  0.08769555302798841\n",
       "  0.10229566393302522\n",
       "  0.11592629618076945\n",
       "  0.12859373719164094\n",
       "  0.14030522493952283\n",
       "  0.1510689408087552\n",
       "  ⋮\n",
       " -0.14030522493952413\n",
       " -0.1285937371916421\n",
       " -0.11592629618077047\n",
       " -0.10229566393302608\n",
       " -0.0876955530279891\n",
       " -0.0721206328036279\n",
       " -0.05556653461701882\n",
       " -0.038029856155669346\n",
       " -0.01950816479518984"
      ]
     },
     "metadata": {},
     "output_type": "display_data"
    }
   ],
   "source": [
    "uh = poisson1d(100, f, 0, 1)[1]"
   ]
  },
  {
   "cell_type": "markdown",
   "metadata": {},
   "source": [
    "**Esercizio 6**\n",
    "È noto che, per il problema in questione, con una discretizzazione a differenze finite l’errore\n",
    "diminuisce quadraticamente rispetto a h, ovvero:\n",
    "∥uh −u∥∞ ≤C ·h2.\n",
    "1. Implementare una funzione compute_error che prenda in input la soluzione esatta u, la\n",
    "soluzione approssimata uh e restituisca l’errore maxi|ui −u(xi)|.\n",
    "2. Risolvere il problema di Poisson monodimensionale per N = 10,20,40,80,160,320 e calco-\n",
    "lare l’errore maxi|ui −u(xi)| per ciascuna soluzione approssimata.\n",
    "3. Realizzare un grafico dell’errore in funzione di h su scala log-log, confrontandolo con una\n",
    "curva di riferimento O(h2).\n",
    "4. Divertirsi a personalizzare il grafico, aggiungendo titoli, legende, griglie, ecc.\n",
    "5. Salvare il grafico prodotto in formato PDF o PNG.\n"
   ]
  },
  {
   "cell_type": "code",
   "execution_count": 89,
   "metadata": {},
   "outputs": [
    {
     "data": {
      "text/plain": [
       "compute_error (generic function with 1 method)"
      ]
     },
     "metadata": {},
     "output_type": "display_data"
    }
   ],
   "source": [
    "function compute_error(u, uh; N = 100)\n",
    "    h = 1/N\n",
    "    x = collect(range(0+h,1-h, step = h))\n",
    "    u_esatta = u(x)\n",
    "\n",
    "    error = maximum(abs.(u_esatta-uh))\n",
    "    return error\n",
    "end"
   ]
  },
  {
   "cell_type": "code",
   "execution_count": 90,
   "metadata": {},
   "outputs": [
    {
     "data": {
      "text/plain": [
       "0.9799983955705419"
      ]
     },
     "metadata": {},
     "output_type": "display_data"
    }
   ],
   "source": [
    "compute_error(u, uh; N=100)"
   ]
  },
  {
   "cell_type": "code",
   "execution_count": 92,
   "metadata": {},
   "outputs": [],
   "source": [
    "N = [10,20,40,80,160,320]\n",
    "err = []\n",
    "for n in N\n",
    "push!(err, compute_error(u,poisson1d(n, f, 0, 1)[1];N=n))\n",
    "\n",
    "end"
   ]
  },
  {
   "cell_type": "code",
   "execution_count": 93,
   "metadata": {},
   "outputs": [
    {
     "data": {
      "text/plain": [
       "6-element Vector{Any}:\n",
       " 0.7987514549073547\n",
       " 0.899819475420046\n",
       " 0.9499758750845609\n",
       " 0.9749968860749695\n",
       " 0.9874996045900508\n",
       " 0.9937499501874221"
      ]
     },
     "metadata": {},
     "output_type": "display_data"
    }
   ],
   "source": [
    "err"
   ]
  },
  {
   "cell_type": "markdown",
   "metadata": {},
   "source": [
    "\n",
    "\n",
    "**3 Meshing per Elementi Finiti**\n",
    "Come avrete intuito dall’esercizio precedente, le differenze finite si basano su griglie. Gli elementi\n",
    "finiti, invece, si basano su mesh; in questo corso, nello specifico, su triangolazioni, cioè mesh\n",
    "costituite da elementi triangolari. Ma come si descrive una triangolazione? La struttura dati\n",
    "essenziale per rappresentarla è formata dalle coordinate dei vertici e dalla matrice di incidenza.\n",
    "Per la descrizione di una triangolazione, utilizziamo due matrici:\n",
    "•T: Una matrice di dimensioni 2 × N_points, dove ogni colonna rappresenta le coordinate di un\n",
    "vertice. In particolare, la prima riga contiene la coordinata x di ciascun punto, mentre la\n",
    "riga colonna contiene la coordinata y. Qui, Npoints è il numero di nodi della mesh.\n",
    "•T: Una matrice di dimensioni 3 ×Ntri, dove ogni colonna rappresenta un triangolo e ogni\n",
    "riga indica l’indice di uno dei tre vertici che compongono il triangolo. Qui, Ntri è il numero\n",
    "totale di triangoli nella mesh. Gli elementi della matrice sono interi che indicano gli indici\n",
    "dei vertici corrispondenti nella matrice delle coordinate.\n",
    "La matrice T descrive la connettività della mesh, ossia come i punti sono connessi per formare i\n",
    "triangoli, mentre la matrice p memorizza le coordinate spaziali di ciascun vertice.\n",
    "Vi forniremo gran parte delle routines necessarie per il meshing durante il corso, utilizzan-\n",
    "do il generatore di mesh Gmsh e il pacchetto Julia Gmsh.jl. Le routines si trovano nel file\n",
    "modules/Meshing.jl e verranno aggiornate man mano che il corso progredisce.\n",
    "\n",
    "\n",
    "\n",
    "**Esercizio 7**\n",
    "L’obiettivo di questo esercizio è familiarizzare con la struttura dati di una triangolazione.\n",
    "Ecco le prime linee di codice che dovreste aggiungere al vostro script Julia:\n",
    "1 using Revise\n",
    "2 includet(\"<PATH-TO-FOLDER>/Meshing.jl\")\n",
    "•using Revise: Questo comando carica il pacchetto Revise.jl, che consente di ricaricare\n",
    "automaticamente i file modificati durante la sessione, senza bisogno di riavviare Julia.\n",
    "•includet(\"<PATH-TO-FOLDER>/Meshing.jl\"): Questa riga include il modulo Meshing.jl,\n",
    "che contiene tutte le funzioni necessarie per lavorare con le mesh. Sostituite <PATH-TO-FOLDER>\n",
    "con il percorso corretto del file Meshing.jl.\n",
    "\n",
    "Una volta che queste righe sono state aggiunte, potrete iniziare a sperimentare con le mesh,\n",
    "utilizzando anche la documentazione delle funzioni nel file Meshing.jl.\n",
    "\n",
    "1. Usando le funzioni mesh_square, mesh_circle e get_nodes_connectivity, eseguire alcune\n",
    "mesh per il quadrato e il cerchio unitario con diverse dimensioni della mesh h.\n",
    "\n",
    "2. Definire una funzione plot_mesh che prende in input la matrice di incidenza T, le coordinate\n",
    "dei vertici p e disegna la triangolazione. La funzione deve iterare su ciascun triangolo e\n",
    "disegnare i bordi uno per uno. Non è necessario concentrarsi sull’efficienza in questa fase,\n",
    "l’obiettivo è essere sicuri di aver compreso correttamente la struttura dei dati.\n",
    "\n",
    "3. Confrontare il risultato ottenuto con la vostra funzione di visualizzazione con quello ottenuto\n",
    "tramite il pacchetto Meshes.jl utilizzando il seguente codice:\n",
    "\n",
    "1 import Meshes\n",
    "2 mesh = to_Meshes(T, p)\n",
    "3 Meshes.viz(mesh, showsegments = true)\n",
    "\n"
   ]
  },
  {
   "cell_type": "markdown",
   "metadata": {},
   "source": []
  }
 ],
 "metadata": {
  "kernelspec": {
   "display_name": "Julia 1.11.3",
   "language": "julia",
   "name": "julia-1.11"
  },
  "language_info": {
   "file_extension": ".jl",
   "mimetype": "application/julia",
   "name": "julia",
   "version": "1.11.3"
  }
 },
 "nbformat": 4,
 "nbformat_minor": 2
}

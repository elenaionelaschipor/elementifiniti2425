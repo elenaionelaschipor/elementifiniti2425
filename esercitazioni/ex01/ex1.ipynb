{
 "cells": [
  {
   "cell_type": "code",
   "execution_count": null,
   "metadata": {},
   "outputs": [],
   "source": [
    "import Pkg\n",
    "Pkg.activate(\"elementifinitiunipv_pkg\")\n",
    "\n",
    "1+1"
   ]
  },
  {
   "cell_type": "markdown",
   "metadata": {},
   "source": [
    "Le variabili in julia vengono passate alle funzioni con il meccanismo \"pass by sharing\": l'oggetto non viene copiato ma gli argomenti della funzione diventano nuovi bindings e modifico l'argomento originale. \n",
    "- Se il valore è immutable (Stringhe, numeri...) creo un nuovo oggetto senza modificare l'originale\n",
    "- Se il valore è mutable (per esempio array o dizionari) le modifiche fatte ad elementi degli array dentro la funzione le vediamo anche fuori dalla funzione. \n",
    "\n",
    "In matlab quando entravo nella funzione veniva fatta una copia dei parametri e poi ci si lavorava. Qui il contrario: quello che succede nella funzione succede anche fuori.\n",
    "\n",
    "\n",
    "\n"
   ]
  },
  {
   "cell_type": "code",
   "execution_count": null,
   "metadata": {},
   "outputs": [],
   "source": [
    "function f(x,y)\n",
    "    x[1] = 42\n",
    "    y = y+7\n",
    "    return y\n",
    "end\n",
    "\n",
    "a = [4,5,6]\n",
    "b = 3\n",
    "z = f(a,b)\n",
    "println(a)\n",
    "println(b)\n",
    "println(z)"
   ]
  },
  {
   "cell_type": "markdown",
   "metadata": {},
   "source": [
    "vantaggio rispetto a matlab che copiava tutto: risparmio tempo e memoria, magari devo fare delle piccole modifiche. spesso, per ricordarci che la funzione modifica gli argomenti, è utile scrivere function f!(x,y) ... invece che function f(x,y)....\n",
    "\n"
   ]
  },
  {
   "cell_type": "markdown",
   "metadata": {},
   "source": [
    "esempio: in matlab per plottare una cosa la sintassi base è: plot(x,y).\n",
    "Se voglio aggiungere qualcosa allora metto plot(x,y, \"Linestyle\"=.... , ....)\n",
    "In julia ci sono gli argomenti optionali e keyword. \n"
   ]
  },
  {
   "cell_type": "code",
   "execution_count": null,
   "metadata": {},
   "outputs": [],
   "source": [
    "function hello(name = \"gioia\")  #qui name è argomento opzionale\n",
    "    println(\"ciao, \", name, \"!\")\n",
    "end\n",
    "\n",
    "hello()\n",
    "hello(\"Carlo\")"
   ]
  },
  {
   "cell_type": "markdown",
   "metadata": {},
   "source": [
    "Quando ho tanti tanti argomenti le cose in matlab diventano un po' più complicate ma in julia è tutto più carino: prima si mettono le variabili obbligatorie senza nulla, e quelle opzionali con la keyword associata. \n",
    "attenzione: scrivendo la funzione separo le var obbl e quelle opzionali con un ; ."
   ]
  },
  {
   "cell_type": "code",
   "execution_count": null,
   "metadata": {},
   "outputs": [],
   "source": [
    "function describe_person(name; age = 20, city=\"Roma\")\n",
    "    println(\"$name ha $age anni ed è di $city\")\n",
    "end"
   ]
  },
  {
   "cell_type": "markdown",
   "metadata": {},
   "source": [
    "Esercizio 1: funzione example che:\n",
    "- accetta x obbligatorio\n",
    "- parametro opzionale con valore 10\n",
    "- parametro con keyword con valore predef 20\n",
    "\n",
    "restituisce somma x+y+z\n"
   ]
  },
  {
   "cell_type": "markdown",
   "metadata": {},
   "source": [
    "nota: \"return\" non è obbligatorio (ma è molto consigliato), se non lo metto la funzione restituisce la cosa che c'è alla fine. \n",
    "se non voglio un output (tipo none di python) scrivo return nothing\n"
   ]
  },
  {
   "cell_type": "markdown",
   "metadata": {},
   "source": [
    "Differenze finite\n",
    "(vedi pdf)"
   ]
  },
  {
   "cell_type": "markdown",
   "metadata": {},
   "source": []
  }
 ],
 "metadata": {
  "kernelspec": {
   "display_name": "Julia 1.11.3",
   "language": "julia",
   "name": "julia-1.11"
  },
  "language_info": {
   "file_extension": ".jl",
   "mimetype": "application/julia",
   "name": "julia",
   "version": "1.11.3"
  }
 },
 "nbformat": 4,
 "nbformat_minor": 2
}
